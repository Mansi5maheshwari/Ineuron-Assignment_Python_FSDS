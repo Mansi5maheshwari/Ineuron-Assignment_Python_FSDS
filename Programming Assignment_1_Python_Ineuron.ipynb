{
 "cells": [
  {
   "cell_type": "code",
   "execution_count": null,
   "id": "fc42558a",
   "metadata": {},
   "outputs": [],
   "source": [
    "Write a Python program to print \"Hello Python\"?\n",
    "Write a Python program to do arithmetical operations addition and division.?\n",
    "Write a Python program to find the area of a triangle?\n",
    "Write a Python program to swap two variables?\n",
    "Write a Python program to generate a random number?"
   ]
  },
  {
   "cell_type": "code",
   "execution_count": 1,
   "id": "a551b246",
   "metadata": {},
   "outputs": [
    {
     "name": "stdout",
     "output_type": "stream",
     "text": [
      "Hello Python\n"
     ]
    }
   ],
   "source": [
    "#Write a Python program to print \"Hello Python\"?\n",
    "\n",
    "print(\"Hello Python\")"
   ]
  },
  {
   "cell_type": "code",
   "execution_count": 3,
   "id": "27d8bad3",
   "metadata": {},
   "outputs": [
    {
     "name": "stdout",
     "output_type": "stream",
     "text": [
      "Enter first number: 15\n",
      "Enter second number: 5\n",
      "Addition of numbers is:  20\n",
      "Division of numbers is:  3.0\n"
     ]
    }
   ],
   "source": [
    "#Write a Python program to do arithmetical operations addition and division.?\n",
    "\n",
    "a= int(input(\"Enter first number: \"))\n",
    "b= int(input(\"Enter second number: \"))\n",
    "\n",
    "print(\"Addition of numbers is: \", a+b)\n",
    "print(\"Division of numbers is: \", a/b)"
   ]
  },
  {
   "cell_type": "code",
   "execution_count": 5,
   "id": "d48fa673",
   "metadata": {
    "scrolled": true
   },
   "outputs": [
    {
     "name": "stdout",
     "output_type": "stream",
     "text": [
      "enter base of triangle: 4\n",
      "enter height of triangle: 2\n",
      "Area of triangle is:  4.0\n"
     ]
    }
   ],
   "source": [
    "#Write a Python program to find the area of a triangle?\n",
    "\n",
    "b= int(input(\"enter base of triangle: \"))\n",
    "h= int(input(\"enter height of triangle: \"))\n",
    "\n",
    "print(\"Area of triangle is: \", 1/2*(b*h))"
   ]
  },
  {
   "cell_type": "code",
   "execution_count": 21,
   "id": "6c76cbfd",
   "metadata": {},
   "outputs": [
    {
     "name": "stdout",
     "output_type": "stream",
     "text": [
      "Enter first variable: 12\n",
      "Enter second variable: 100\n",
      "Swapped variables are \n",
      "  first variable is: 100 \n",
      " second variable is: 2\n"
     ]
    }
   ],
   "source": [
    "#Write a Python program to swap two variables?\n",
    "\n",
    "a=int(input(\"Enter first variable: \"))\n",
    "b=int(input(\"Enter second variable: \"))\n",
    "a=c\n",
    "a=b\n",
    "b=c\n",
    "print(\"Swapped variables are \\n \", f\"first variable is: {a} \\n\", f\"second variable is: {b}\")\n"
   ]
  },
  {
   "cell_type": "code",
   "execution_count": 29,
   "id": "8a20e766",
   "metadata": {},
   "outputs": [
    {
     "name": "stdout",
     "output_type": "stream",
     "text": [
      "0.7579544029403025\n"
     ]
    }
   ],
   "source": [
    "#Write a Python program to generate a random number?\n",
    "import random\n",
    "\n",
    "a= random.random()\n",
    "print(a)"
   ]
  },
  {
   "cell_type": "code",
   "execution_count": null,
   "id": "550e3fd1",
   "metadata": {},
   "outputs": [],
   "source": []
  },
  {
   "cell_type": "code",
   "execution_count": null,
   "id": "b9847f1b",
   "metadata": {},
   "outputs": [],
   "source": []
  }
 ],
 "metadata": {
  "kernelspec": {
   "display_name": "Python 3 (ipykernel)",
   "language": "python",
   "name": "python3"
  },
  "language_info": {
   "codemirror_mode": {
    "name": "ipython",
    "version": 3
   },
   "file_extension": ".py",
   "mimetype": "text/x-python",
   "name": "python",
   "nbconvert_exporter": "python",
   "pygments_lexer": "ipython3",
   "version": "3.9.12"
  }
 },
 "nbformat": 4,
 "nbformat_minor": 5
}
