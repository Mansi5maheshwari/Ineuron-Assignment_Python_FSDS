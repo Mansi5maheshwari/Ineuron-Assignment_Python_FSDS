{
 "cells": [
  {
   "cell_type": "code",
   "execution_count": null,
   "id": "81cb97e4",
   "metadata": {},
   "outputs": [],
   "source": [
    "1. What does an empty dictionary's code look like?\n",
    "\n",
    "Amswer:\n",
    "    \n",
    "{}"
   ]
  },
  {
   "cell_type": "code",
   "execution_count": 4,
   "id": "638d6b2b",
   "metadata": {},
   "outputs": [],
   "source": [
    "#2. What is the value of a dictionary value with the key 'foo' and the value 42?\n",
    "\n",
    "Answer:\n",
    "    \n",
    "Value= 42"
   ]
  },
  {
   "cell_type": "code",
   "execution_count": null,
   "id": "eebeb1f9",
   "metadata": {},
   "outputs": [],
   "source": [
    "3. What is the most significant distinction between a dictionary and a list?\n",
    "\n",
    "Answer:\n",
    "    \n",
    "Dictionary includes values in a form of key value pair.\n",
    "List elements are accesed via indices. Dictionary elements are accesed with keys.\n",
    "\n"
   ]
  },
  {
   "cell_type": "code",
   "execution_count": null,
   "id": "3eeab69d",
   "metadata": {},
   "outputs": [],
   "source": [
    "4. What happens if you try to access spam['foo'] if spam is {'bar': 100}?\n",
    "\n",
    "Answer:\n",
    "    \n",
    "KeyError"
   ]
  },
  {
   "cell_type": "code",
   "execution_count": 9,
   "id": "410a8f1e",
   "metadata": {},
   "outputs": [],
   "source": [
    "#5. If a dictionary is stored in spam, \n",
    "#what is the difference between the expressions 'cat' in spam and 'cat' in spam.keys()?"
   ]
  },
  {
   "cell_type": "code",
   "execution_count": null,
   "id": "669595a5",
   "metadata": {},
   "outputs": [],
   "source": [
    "Expression 'cat' is a string whereas 'cat' in spam.keys() is the key of the dictionay."
   ]
  },
  {
   "cell_type": "code",
   "execution_count": null,
   "id": "2e2f62e1",
   "metadata": {},
   "outputs": [],
   "source": [
    "#6. If a dictionary is stored in spam, \n",
    "#what is the difference between the expressions 'cat' in spam and 'cat' in spam.values()?"
   ]
  },
  {
   "cell_type": "code",
   "execution_count": null,
   "id": "30a67acf",
   "metadata": {},
   "outputs": [],
   "source": [
    "Expression 'cat' is a string whereas 'cat' in spam.values() is the value of the dictionay."
   ]
  },
  {
   "cell_type": "code",
   "execution_count": null,
   "id": "c974b7ef",
   "metadata": {},
   "outputs": [],
   "source": [
    "7. What is a shortcut for the following code?\n",
    "if 'color' not in spam:\n",
    "spam['color'] = 'black'\n",
    "\n",
    "Answer:\n",
    "    \n",
    "if spam != 'color':\n",
    "    spam['color'] = 'black'\n",
    "\n"
   ]
  },
  {
   "cell_type": "code",
   "execution_count": null,
   "id": "a9b6d7e9",
   "metadata": {},
   "outputs": [],
   "source": [
    "8. How do you \"pretty print\" dictionary values using which module and function?\n",
    "\n",
    "Answer:\n",
    "    \n",
    "Module- pprint\n",
    "Function- pprint()"
   ]
  }
 ],
 "metadata": {
  "kernelspec": {
   "display_name": "Python 3 (ipykernel)",
   "language": "python",
   "name": "python3"
  },
  "language_info": {
   "codemirror_mode": {
    "name": "ipython",
    "version": 3
   },
   "file_extension": ".py",
   "mimetype": "text/x-python",
   "name": "python",
   "nbconvert_exporter": "python",
   "pygments_lexer": "ipython3",
   "version": "3.9.12"
  }
 },
 "nbformat": 4,
 "nbformat_minor": 5
}
