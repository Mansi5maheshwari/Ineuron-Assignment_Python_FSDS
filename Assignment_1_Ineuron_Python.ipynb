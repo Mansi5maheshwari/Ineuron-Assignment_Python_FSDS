{
 "cells": [
  {
   "cell_type": "markdown",
   "id": "fab47ac5",
   "metadata": {},
   "source": [
    "1. In the below elements which of them are values or an expression? eg:- values can be integer or string and expressions will be mathematical operators.\n",
    "* \n",
    "'hello'\n",
    "-87.8\n",
    "- \n",
    "/ \n",
    "\n",
    "6 \n"
   ]
  },
  {
   "cell_type": "markdown",
   "id": "18af80e3",
   "metadata": {},
   "source": [
    "Answer:\n",
    "* - Expression\n",
    "'hello'- Value\n",
    "-87.8- Value\n",
    "- : Expression\n",
    "/ : Expression\n",
    "6 : Value"
   ]
  },
  {
   "cell_type": "markdown",
   "id": "b5fc9ee3",
   "metadata": {},
   "source": [
    "#2. What is the difference between string and variable?\n",
    "Answer:\n",
    "A variable is something which you can any assign value to and a string is a data type that you store in a variable."
   ]
  },
  {
   "cell_type": "markdown",
   "id": "ac8baedf",
   "metadata": {},
   "source": [
    "#3. Describe three different data types.\n",
    "Answer:\n",
    "String- Collection of one or more characters.\n",
    "List- Used to store multiple items/data types in a single variable.\n",
    "Boolean- Data type with one of two True or False"
   ]
  },
  {
   "cell_type": "markdown",
   "id": "815db59b",
   "metadata": {},
   "source": [
    "#4. What is an expression made up of? What do all expressions do?\n",
    "Answer:\n",
    "Expression are made of mathematical operators and operands that is interpreted to produce some value. Expressions perform operations."
   ]
  },
  {
   "cell_type": "markdown",
   "id": "f77aa792",
   "metadata": {},
   "source": [
    "#5. This assignment statements, like spam = 10. What is the difference between an expression and a statement?\n",
    "Answer:\n",
    "\n",
    "Expression:\n",
    "We can use value as well as substitute variable in an expression.\n",
    "Expression contains both operators and operands that produces/evaluate or return a result.\n",
    "Evaluation of expression always produes or return a result value.\n",
    "\n",
    "\n",
    "Statement:\n",
    "    Statement is any instruction that a python operator can execute. \n",
    "It is executable unit of code that has an effect, like creating a variable or displaying a value.\n",
    "Execution of statement may or may not produe a result. It only does what statement says.\n",
    "Here spam= 10  is a statement."
   ]
  },
  {
   "cell_type": "markdown",
   "id": "ef94e7b0",
   "metadata": {},
   "source": [
    "6. After running the following code, what does the variable bacon contain?\n",
    "bacon = 22\n",
    "bacon + 1\n",
    "\n",
    "Answer:\n",
    "Bacon contains 22\n"
   ]
  },
  {
   "cell_type": "markdown",
   "id": "bf79b4bb",
   "metadata": {},
   "source": [
    "7. What should the values of the following two terms be?\n",
    "Answer:\n",
    "'spam' + 'spamspam'= spamspamspam\n",
    "'spam' * 3= spamspamspam\n",
    "\n"
   ]
  },
  {
   "cell_type": "markdown",
   "id": "00b631d6",
   "metadata": {},
   "source": [
    "8. Why is eggs a valid variable name while 100 is invalid?\n",
    "Answer:\n",
    "This is beacause variable names cannot start with numerica value. It should start with either a letter or underscore character"
   ]
  },
  {
   "cell_type": "markdown",
   "id": "78039e66",
   "metadata": {},
   "source": [
    "9. What three functions can be used to get the integer, floating-point number, or string version of a value?\n",
    "Answer:\n",
    "#To get an integer: int\n",
    "#To get a floating-point: float\n",
    "#To get a string: str   "
   ]
  },
  {
   "cell_type": "markdown",
   "id": "7207cc20",
   "metadata": {},
   "source": [
    "#10. Why does this expression cause an error? How can you fix it?\n",
    "'I have eaten ' + 99 + ' burritos.'\n",
    "\n",
    "Answer: This is because str can cocatenate to str only. We can make 99 a string.\n",
    "    \n",
    "'I have eaten ' + '99' + ' burritos.'"
   ]
  },
  {
   "cell_type": "code",
   "execution_count": null,
   "id": "cbeafff9",
   "metadata": {},
   "outputs": [],
   "source": []
  }
 ],
 "metadata": {
  "kernelspec": {
   "display_name": "Python 3 (ipykernel)",
   "language": "python",
   "name": "python3"
  },
  "language_info": {
   "codemirror_mode": {
    "name": "ipython",
    "version": 3
   },
   "file_extension": ".py",
   "mimetype": "text/x-python",
   "name": "python",
   "nbconvert_exporter": "python",
   "pygments_lexer": "ipython3",
   "version": "3.9.12"
  }
 },
 "nbformat": 4,
 "nbformat_minor": 5
}
