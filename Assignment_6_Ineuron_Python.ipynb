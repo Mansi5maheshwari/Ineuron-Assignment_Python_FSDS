{
 "cells": [
  {
   "cell_type": "code",
   "execution_count": null,
   "id": "d26396e6",
   "metadata": {},
   "outputs": [],
   "source": [
    "\n",
    "3. What is the way to include backslash characters in a string?\n",
    "4. The string \"Howl's Moving Castle\" is a correct value. Why isn't the single quote character in the word Howl's not escaped a problem?\n"
   ]
  },
  {
   "cell_type": "markdown",
   "id": "94b60c1f",
   "metadata": {},
   "source": [
    "#1. What are escape characters, and how do you use them?\n",
    "\n",
    "Answer:\n",
    "\n",
    "Escape characters are used to insert characters that are not allowed in string. You put a back slash to use them."
   ]
  },
  {
   "cell_type": "markdown",
   "id": "777a2169",
   "metadata": {},
   "source": [
    "#2. What do the escape characters n and t stand for?\n",
    "\n",
    "Answer:\n",
    "    \n",
    "n stands for a new line and t for a tab"
   ]
  },
  {
   "cell_type": "markdown",
   "id": "c4e77a33",
   "metadata": {},
   "source": [
    "#3. What is the way to include backslash characters in a string?\n",
    "\n",
    "Answer:\n",
    "    \n",
    "Backslash characters are included in a string using \\\\."
   ]
  },
  {
   "cell_type": "markdown",
   "id": "e9e68f28",
   "metadata": {},
   "source": [
    "#4. The string \"Howl's Moving Castle\" is a correct value. \n",
    "#Why isn't the single quote character in the word Howl's not escaped a problem?\n",
    "\n",
    "Answer:\n",
    "    \n",
    "This is beacuse apostrophe is used whereas the complete senetence is under a double quotation so it treats it as it is.\n"
   ]
  },
  {
   "cell_type": "code",
   "execution_count": null,
   "id": "53ab5ca4",
   "metadata": {},
   "outputs": [],
   "source": [
    "\n",
    "9. What are the methods for right-justifying, left-justifying, and centering a string?\n",
    "10. What is the best way to remove whitespace characters from the start or end?"
   ]
  },
  {
   "cell_type": "markdown",
   "id": "868c0c21",
   "metadata": {},
   "source": [
    "#5. How do you write a string of newlines if you don't want to use the n character?\n",
    "\n",
    "Answer:\n",
    "    \n",
    "By using end=\" \""
   ]
  },
  {
   "cell_type": "markdown",
   "id": "b99567ad",
   "metadata": {},
   "source": [
    "#6. What are the values of the given expressions?\n",
    "'Hello, world!'[1]= e\n",
    "'Hello, world!'[0:5]= 'Hello'\n",
    "'Hello, world!'[:5]= 'Hello'\n",
    "'Hello, world!'[3:]= 'lo, world!'"
   ]
  },
  {
   "cell_type": "markdown",
   "id": "71a67661",
   "metadata": {},
   "source": [
    "#7. What are the values of the following expressions?\n",
    "'Hello'.upper()= 'HELLO'\n",
    "'Hello'.upper().isupper()= True\n",
    "'Hello'.upper().lower()= 'hello'"
   ]
  },
  {
   "cell_type": "markdown",
   "id": "5cfff60b",
   "metadata": {},
   "source": [
    "#8. What are the values of the following expressions?\n",
    "'Remember, remember, the fifth of July.'.split()= ['Remember,', 'remember,', 'the', 'fifth', 'of', 'July.']\n",
    "\n",
    "'-'.join('There can only one.'.split())= 'There-can-only-one.'"
   ]
  },
  {
   "cell_type": "markdown",
   "id": "8e7b06e1",
   "metadata": {},
   "source": [
    "#9. What are the methods for right-justifying, left-justifying, and centering a string?\n",
    "\n",
    "Answer:\n",
    "    \n",
    "rjust(), ljust(), center()"
   ]
  },
  {
   "cell_type": "code",
   "execution_count": 21,
   "id": "fd0e13c0",
   "metadata": {},
   "outputs": [],
   "source": [
    "#10. What is the best way to remove whitespace characters from the start or end?\n",
    "\n",
    "Answer:\n",
    "    \n",
    "using strip()"
   ]
  },
  {
   "cell_type": "code",
   "execution_count": null,
   "id": "fb19b60d",
   "metadata": {},
   "outputs": [],
   "source": []
  }
 ],
 "metadata": {
  "kernelspec": {
   "display_name": "Python 3 (ipykernel)",
   "language": "python",
   "name": "python3"
  },
  "language_info": {
   "codemirror_mode": {
    "name": "ipython",
    "version": 3
   },
   "file_extension": ".py",
   "mimetype": "text/x-python",
   "name": "python",
   "nbconvert_exporter": "python",
   "pygments_lexer": "ipython3",
   "version": "3.9.12"
  }
 },
 "nbformat": 4,
 "nbformat_minor": 5
}
