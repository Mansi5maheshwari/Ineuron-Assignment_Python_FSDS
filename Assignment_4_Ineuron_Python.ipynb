{
 "cells": [
  {
   "cell_type": "code",
   "execution_count": 1,
   "id": "ea01d53c",
   "metadata": {},
   "outputs": [
    {
     "data": {
      "text/plain": [
       "[]"
      ]
     },
     "execution_count": 1,
     "metadata": {},
     "output_type": "execute_result"
    }
   ],
   "source": [
    "#1. What exactly is []?\n",
    "\n",
    "Answer:\n",
    "\n",
    "[] is used to define list literals, allowing you to declare a list and its contents in a program."
   ]
  },
  {
   "cell_type": "code",
   "execution_count": 7,
   "id": "4f953692",
   "metadata": {},
   "outputs": [],
   "source": [
    "#2. In a list of values stored in a variable called spam, how would you assign the value 'hello' as the third value? \n",
    "#(Assume [2, 4, 6, 8, 10] are in spam.)\n",
    "#Let's pretend the spam includes the list ['a', 'b', 'c', 'd'] for the next three queries.\n",
    "\n",
    "\n",
    "spam= [2, 4, 6, 8, 10]\n",
    "spam.insert(2, 'hello')"
   ]
  },
  {
   "cell_type": "code",
   "execution_count": 13,
   "id": "6a366dd6",
   "metadata": {},
   "outputs": [
    {
     "name": "stdout",
     "output_type": "stream",
     "text": [
      "answer to 3rd question is:  d\n",
      "answer to 4th question is:  d\n",
      "answer to 5th question is:  ['a', 'b']\n"
     ]
    }
   ],
   "source": [
    "#Let's pretend the spam includes the list ['a', 'b', 'c', 'd'] for the next three queries.\n",
    "\n",
    "spam= ['a', 'b', 'c', 'd']\n",
    "\n",
    "#3. What is the value of spam[int(int('3' * 2) / 11)]?\n",
    "\n",
    "print(\"answer to 3rd question is: \", spam[int(int('3' * 2) / 11)]) \n",
    "\n",
    "#4. What is the value of spam[-1]?\n",
    "\n",
    "print(\"answer to 4th question is: \",spam[-1])\n",
    "\n",
    "#5. What is the value of spam[:2]?\n",
    "\n",
    "print(\"answer to 5th question is: \",spam[:2])"
   ]
  },
  {
   "cell_type": "code",
   "execution_count": 17,
   "id": "55055793",
   "metadata": {},
   "outputs": [],
   "source": [
    "#Let's pretend bacon has the list [3.14, 'cat,' 11, 'cat,' True] for the next three questions.\n",
    "\n",
    "bacon= [3.14, 'cat', 11, 'cat', True]"
   ]
  },
  {
   "cell_type": "code",
   "execution_count": 18,
   "id": "d7cfa126",
   "metadata": {},
   "outputs": [
    {
     "data": {
      "text/plain": [
       "1"
      ]
     },
     "execution_count": 18,
     "metadata": {},
     "output_type": "execute_result"
    }
   ],
   "source": [
    "#6. What is the value of bacon.index('cat')?\n",
    "\n",
    "bacon.index('cat')"
   ]
  },
  {
   "cell_type": "code",
   "execution_count": 19,
   "id": "228262fc",
   "metadata": {},
   "outputs": [],
   "source": [
    "#7. How does bacon.append(99) change the look of the list value in bacon?\n",
    "\n",
    "Answer:\n",
    "    \n",
    "[3.14, 'cat', 11, 'cat', True, 99]"
   ]
  },
  {
   "cell_type": "code",
   "execution_count": 21,
   "id": "1ea45e78",
   "metadata": {},
   "outputs": [],
   "source": [
    "#8. How does bacon.remove('cat') change the look of the list in bacon?\n",
    "\n",
    "Answer:\n",
    "    \n",
    "[3.14, 11, 'cat', True, 99]"
   ]
  },
  {
   "cell_type": "code",
   "execution_count": null,
   "id": "f648271a",
   "metadata": {},
   "outputs": [],
   "source": [
    "#9. What are the list concatenation and list replication operators?\n",
    "\n",
    "List concatenation: +\n",
    "List replication: *"
   ]
  },
  {
   "cell_type": "code",
   "execution_count": null,
   "id": "5f9c4d26",
   "metadata": {},
   "outputs": [],
   "source": [
    "#10. What is difference between the list methods append() and insert()?\n",
    "\n",
    "Answer:\n",
    "\n",
    "List append() insert the value at the last of the list whereas insert() can insert the value at any desired index."
   ]
  },
  {
   "cell_type": "code",
   "execution_count": null,
   "id": "1ac67089",
   "metadata": {},
   "outputs": [],
   "source": [
    "#11. What are the two methods for removing items from a list?\n",
    "\n",
    "Answer:\n",
    "    \n",
    "1. list.remove()\n",
    "2. list.pop()\n",
    "3. del list[]"
   ]
  },
  {
   "cell_type": "code",
   "execution_count": null,
   "id": "00311531",
   "metadata": {},
   "outputs": [],
   "source": [
    "12. Describe how list values and string values are identical.\n",
    "\n",
    "Answer:\n",
    "    \n",
    "They both are sequences. Both are used to store value/data."
   ]
  },
  {
   "cell_type": "code",
   "execution_count": null,
   "id": "259781c4",
   "metadata": {},
   "outputs": [],
   "source": [
    "13. What's the difference between tuples and lists?\n",
    "\n",
    "Answer:\n",
    "    \n",
    "Lists are mutable whereas tuples are immutable."
   ]
  },
  {
   "cell_type": "code",
   "execution_count": 39,
   "id": "b6f43bb3",
   "metadata": {},
   "outputs": [],
   "source": [
    "#14. How do you type a tuple value that only contains the integer 42?\n",
    "\n",
    "Answer:\n",
    "    \n",
    "type a comma after the value, (42,)"
   ]
  },
  {
   "cell_type": "code",
   "execution_count": 46,
   "id": "d50ba7c0",
   "metadata": {},
   "outputs": [],
   "source": [
    "#15. How do you get a list value's tuple form? How do you get a tuple value's list form?\n",
    "\n",
    "#Answer:\n",
    "    \n",
    "List value's tuple form: tuple()\n",
    "tuple value's list form: list()"
   ]
  },
  {
   "cell_type": "code",
   "execution_count": null,
   "id": "26968189",
   "metadata": {},
   "outputs": [],
   "source": [
    "#16. Variables that \"contain\" list values are not necessarily lists themselves. Instead, what do they contain?\n",
    "\n",
    "They can contain integers, float, string, list, tuples, set, dictionay."
   ]
  },
  {
   "cell_type": "code",
   "execution_count": null,
   "id": "c800bf6c",
   "metadata": {},
   "outputs": [],
   "source": [
    "#17. How do you distinguish between copy.copy() and copy.deepcopy()?\n",
    "\n",
    "Answer:\n",
    "    \n",
    "copy.copy() returns a shallow copy. Any changes made to a copy of an object do reflect in the original object.\n",
    "copy.deepcopy() returns a deep copy. \n",
    "It creates a new compund object before inserting copies of the items found in original into recursive manner.\n",
    "A copy of object is made into another object, hence changes made to copy of object do not reflect in the original object.\n"
   ]
  },
  {
   "cell_type": "code",
   "execution_count": null,
   "id": "03a26f4c",
   "metadata": {},
   "outputs": [],
   "source": []
  }
 ],
 "metadata": {
  "kernelspec": {
   "display_name": "Python 3 (ipykernel)",
   "language": "python",
   "name": "python3"
  },
  "language_info": {
   "codemirror_mode": {
    "name": "ipython",
    "version": 3
   },
   "file_extension": ".py",
   "mimetype": "text/x-python",
   "name": "python",
   "nbconvert_exporter": "python",
   "pygments_lexer": "ipython3",
   "version": "3.9.12"
  }
 },
 "nbformat": 4,
 "nbformat_minor": 5
}
